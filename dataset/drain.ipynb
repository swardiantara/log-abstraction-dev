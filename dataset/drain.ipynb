{
 "cells": [
  {
   "cell_type": "code",
   "execution_count": 1,
   "metadata": {},
   "outputs": [
    {
     "name": "stdout",
     "output_type": "stream",
     "text": [
      "Collecting drain3\n",
      "  Downloading drain3-0.9.11.tar.gz (27 kB)\n",
      "  Preparing metadata (setup.py): started\n",
      "  Preparing metadata (setup.py): finished with status 'done'\n",
      "Collecting jsonpickle==1.5.1\n",
      "  Downloading jsonpickle-1.5.1-py2.py3-none-any.whl (37 kB)\n",
      "Collecting cachetools==4.2.1\n",
      "  Downloading cachetools-4.2.1-py3-none-any.whl (12 kB)\n",
      "Building wheels for collected packages: drain3\n",
      "  Building wheel for drain3 (setup.py): started\n",
      "  Building wheel for drain3 (setup.py): finished with status 'done'\n",
      "  Created wheel for drain3: filename=drain3-0.9.11-py3-none-any.whl size=24064 sha256=23e51ab66416f332570b0b82cef6c70b5d4bbd36204bd4ce73f5cef1bbc34285\n",
      "  Stored in directory: c:\\users\\swardi\\appdata\\local\\pip\\cache\\wheels\\a0\\be\\95\\fd5f507391c65e5ef25729375498d62424e54ea303efee79e1\n",
      "Successfully built drain3\n",
      "Installing collected packages: jsonpickle, cachetools, drain3\n",
      "  Attempting uninstall: cachetools\n",
      "    Found existing installation: cachetools 5.3.1\n",
      "    Uninstalling cachetools-5.3.1:\n",
      "      Successfully uninstalled cachetools-5.3.1\n",
      "Successfully installed cachetools-4.2.1 drain3-0.9.11 jsonpickle-1.5.1\n"
     ]
    },
    {
     "name": "stderr",
     "output_type": "stream",
     "text": [
      "\n",
      "[notice] A new release of pip available: 22.3.1 -> 23.3.1\n",
      "[notice] To update, run: python.exe -m pip install --upgrade pip\n"
     ]
    }
   ],
   "source": [
    "!pip install drain3"
   ]
  },
  {
   "cell_type": "code",
   "execution_count": 2,
   "metadata": {},
   "outputs": [
    {
     "ename": "NameError",
     "evalue": "name '__file__' is not defined",
     "output_type": "error",
     "traceback": [
      "\u001b[1;31m---------------------------------------------------------------------------\u001b[0m",
      "\u001b[1;31mNameError\u001b[0m                                 Traceback (most recent call last)",
      "\u001b[1;32me:\\Data Kuliah\\S2 ITS\\Semester 5\\Sentiment Analysis\\drone-severity-multitask\\dataset\\drain.ipynb Cell 2\u001b[0m line \u001b[0;36m2\n\u001b[0;32m     <a href='vscode-notebook-cell:/e%3A/Data%20Kuliah/S2%20ITS/Semester%205/Sentiment%20Analysis/drone-severity-multitask/dataset/drain.ipynb#W1sZmlsZQ%3D%3D?line=24'>25</a>\u001b[0m     p\u001b[39m.\u001b[39mwait()\n\u001b[0;32m     <a href='vscode-notebook-cell:/e%3A/Data%20Kuliah/S2%20ITS/Semester%205/Sentiment%20Analysis/drone-severity-multitask/dataset/drain.ipynb#W1sZmlsZQ%3D%3D?line=27'>28</a>\u001b[0m config \u001b[39m=\u001b[39m TemplateMinerConfig()\n\u001b[1;32m---> <a href='vscode-notebook-cell:/e%3A/Data%20Kuliah/S2%20ITS/Semester%205/Sentiment%20Analysis/drone-severity-multitask/dataset/drain.ipynb#W1sZmlsZQ%3D%3D?line=28'>29</a>\u001b[0m config\u001b[39m.\u001b[39mload(\u001b[39mf\u001b[39m\u001b[39m\"\u001b[39m\u001b[39m{\u001b[39;00mdirname(\u001b[39m__file__\u001b[39;49m)\u001b[39m}\u001b[39;00m\u001b[39m/drain3.ini\u001b[39m\u001b[39m\"\u001b[39m)\n\u001b[0;32m     <a href='vscode-notebook-cell:/e%3A/Data%20Kuliah/S2%20ITS/Semester%205/Sentiment%20Analysis/drone-severity-multitask/dataset/drain.ipynb#W1sZmlsZQ%3D%3D?line=29'>30</a>\u001b[0m config\u001b[39m.\u001b[39mprofiling_enabled \u001b[39m=\u001b[39m \u001b[39mTrue\u001b[39;00m\n\u001b[0;32m     <a href='vscode-notebook-cell:/e%3A/Data%20Kuliah/S2%20ITS/Semester%205/Sentiment%20Analysis/drone-severity-multitask/dataset/drain.ipynb#W1sZmlsZQ%3D%3D?line=30'>31</a>\u001b[0m template_miner \u001b[39m=\u001b[39m TemplateMiner(config\u001b[39m=\u001b[39mconfig)\n",
      "\u001b[1;31mNameError\u001b[0m: name '__file__' is not defined"
     ]
    }
   ],
   "source": [
    "# SPDX-License-Identifier: MIT\n",
    "\n",
    "import json\n",
    "import logging\n",
    "import os\n",
    "import subprocess\n",
    "import sys\n",
    "import time\n",
    "from os.path import dirname\n",
    "\n",
    "from drain3 import TemplateMiner\n",
    "from drain3.template_miner_config import TemplateMinerConfig\n",
    "\n",
    "logger = logging.getLogger(__name__)\n",
    "logging.basicConfig(stream=sys.stdout, level=logging.INFO, format='%(message)s')\n",
    "\n",
    "in_gz_file = \"SSH.tar.gz\"\n",
    "in_log_file = \"SSH.log\"\n",
    "if not os.path.isfile(in_log_file):\n",
    "    logger.info(f\"Downloading file {in_gz_file}\")\n",
    "    p = subprocess.Popen(f\"curl https://zenodo.org/record/3227177/files/{in_gz_file} --output {in_gz_file}\", shell=True)\n",
    "    p.wait()\n",
    "    logger.info(f\"Extracting file {in_gz_file}\")\n",
    "    p = subprocess.Popen(f\"tar -xvzf {in_gz_file}\", shell=True)\n",
    "    p.wait()\n",
    "\n",
    "\n",
    "config = TemplateMinerConfig()\n",
    "config.load(f\"{dirname(__file__)}/drain3.ini\")\n",
    "config.profiling_enabled = True\n",
    "template_miner = TemplateMiner(config=config)\n",
    "\n",
    "line_count = 0\n",
    "\n",
    "with open(in_log_file) as f:\n",
    "    lines = f.readlines()\n",
    "\n",
    "start_time = time.time()\n",
    "batch_start_time = start_time\n",
    "batch_size = 10000\n",
    "\n",
    "for line in lines:\n",
    "    line = line.rstrip()\n",
    "    line = line.partition(\": \")[2]\n",
    "    result = template_miner.add_log_message(line)\n",
    "    line_count += 1\n",
    "    if line_count % batch_size == 0:\n",
    "        time_took = time.time() - batch_start_time\n",
    "        rate = batch_size / time_took\n",
    "        logger.info(f\"Processing line: {line_count}, rate {rate:.1f} lines/sec, \"\n",
    "                    f\"{len(template_miner.drain.clusters)} clusters so far.\")\n",
    "        batch_start_time = time.time()\n",
    "    if result[\"change_type\"] != \"none\":\n",
    "        result_json = json.dumps(result)\n",
    "        logger.info(f\"Input ({line_count}): {line}\")\n",
    "        logger.info(f\"Result: {result_json}\")\n",
    "\n",
    "time_took = time.time() - start_time\n",
    "rate = line_count / time_took\n",
    "logger.info(f\"--- Done processing file in {time_took:.2f} sec. Total of {line_count} lines, rate {rate:.1f} lines/sec, \"\n",
    "            f\"{len(template_miner.drain.clusters)} clusters\")\n",
    "\n",
    "sorted_clusters = sorted(template_miner.drain.clusters, key=lambda it: it.size, reverse=True)\n",
    "for cluster in sorted_clusters:\n",
    "    logger.info(cluster)\n",
    "\n",
    "print(\"Prefix Tree:\")\n",
    "template_miner.drain.print_tree()\n",
    "\n",
    "template_miner.profiler.report(0)"
   ]
  }
 ],
 "metadata": {
  "kernelspec": {
   "display_name": "Python 3",
   "language": "python",
   "name": "python3"
  },
  "language_info": {
   "codemirror_mode": {
    "name": "ipython",
    "version": 3
   },
   "file_extension": ".py",
   "mimetype": "text/x-python",
   "name": "python",
   "nbconvert_exporter": "python",
   "pygments_lexer": "ipython3",
   "version": "3.11.2"
  }
 },
 "nbformat": 4,
 "nbformat_minor": 2
}
